{
 "cells": [
  {
   "cell_type": "markdown",
   "metadata": {},
   "source": [
    "### CLI"
   ]
  },
  {
   "cell_type": "code",
   "execution_count": null,
   "metadata": {},
   "outputs": [],
   "source": [
    "import pickle\n",
    "import pandas as pd\n",
    "\n",
    "final_model = pickle.load(open(\"xgb_reg.pkl\", \"rb\"))\n",
    "\n",
    "def get_data():\n",
    "    print(\"Wprowadź dane:\")\n",
    "    while True:\n",
    "        try:\n",
    "            age = int(input(\"Wiek [w latach]: \"))\n",
    "            high_blood_pressure = str(input(\"Występowanie nadciśnienia tętniczego [y/n]: \"))\n",
    "            high_blood_pressure = high_blood_pressure == 'y' or high_blood_pressure == 'y' if 1 else 0\n",
    "\n",
    "            ejection_fraction = int(input(\"Frakcja wyrzutowa serca [%]: \"))\n",
    "            serum_creatinine = float(input(\"Poziom kreatyniny w surowicy [mg/dL]: \"))\n",
    "            serum_sodium = int(input(\"Poziom sodu w surowicy [mEq/L]: \"))\n",
    "            \n",
    "            break\n",
    "        except ValueError as e:\n",
    "            print(f\"Błąd: {e}. Spróbuj ponownie.\")\n",
    "\n",
    "    test = pd.DataFrame({\n",
    "        'age': [age],\n",
    "        'ejection_fraction': [ejection_fraction],\n",
    "        'high_blood_pressure': [high_blood_pressure],\n",
    "        'serum_creatinine': [serum_creatinine],\n",
    "        'serum_sodium': [serum_sodium]\n",
    "    })\n",
    "    \n",
    "    return test\n",
    "\n",
    "data = get_data()\n",
    "\n",
    "y_pred = final_model.predict_proba(data)[:, 1]\n",
    "print(f\"Uzyskane prawdopodobieństwo zgonu: {y_pred[0]}\")"
   ]
  }
 ],
 "metadata": {
  "kernelspec": {
   "display_name": ".venv",
   "language": "python",
   "name": "python3"
  },
  "language_info": {
   "codemirror_mode": {
    "name": "ipython",
    "version": 3
   },
   "file_extension": ".py",
   "mimetype": "text/x-python",
   "name": "python",
   "nbconvert_exporter": "python",
   "pygments_lexer": "ipython3",
   "version": "3.11.2"
  }
 },
 "nbformat": 4,
 "nbformat_minor": 2
}
